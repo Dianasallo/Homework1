{
 "cells": [
  {
   "cell_type": "code",
   "execution_count": 1,
   "id": "03d201ee",
   "metadata": {},
   "outputs": [
    {
     "name": "stdout",
     "output_type": "stream",
     "text": [
      "{'HTTP': 80, 'HTTPS': 443, 'FTP': 20, 'DNS': 53}\n"
     ]
    }
   ],
   "source": [
    "#السؤال الأول\n",
    "#A\n",
    "\n",
    "L1=['HTTP','HTTPS','FTP','DNS']\n",
    "L2=[80,443,20,53]\n",
    "d={}\n",
    "for i in range(len(L1)):\n",
    "    d[L1[i]]=L2[i]\n",
    "print(d)"
   ]
  },
  {
   "cell_type": "code",
   "execution_count": 11,
   "id": "6e91a1cb",
   "metadata": {},
   "outputs": [
    {
     "name": "stdout",
     "output_type": "stream",
     "text": [
      "enter positive number to calcuate it factorial: 5\n",
      "120\n",
      "enter positive number to calcuate it factorial: 6\n",
      "720\n",
      "enter positive number to calcuate it factorial: 0\n",
      "1\n",
      "enter positive number to calcuate it factorial: -1\n",
      "enter positive number\n"
     ]
    },
    {
     "ename": "KeyboardInterrupt",
     "evalue": "Interrupted by user",
     "output_type": "error",
     "traceback": [
      "\u001b[1;31m---------------------------------------------------------------------------\u001b[0m",
      "\u001b[1;31mKeyboardInterrupt\u001b[0m                         Traceback (most recent call last)",
      "Cell \u001b[1;32mIn[11], line 10\u001b[0m\n\u001b[0;32m      8\u001b[0m     \u001b[38;5;28;01mreturn\u001b[39;00m fa\n\u001b[0;32m      9\u001b[0m \u001b[38;5;28;01mwhile\u001b[39;00m \u001b[38;5;28;01mTrue\u001b[39;00m:\n\u001b[1;32m---> 10\u001b[0m     num\u001b[38;5;241m=\u001b[39m\u001b[38;5;28mint\u001b[39m(\u001b[38;5;28;43minput\u001b[39;49m\u001b[43m(\u001b[49m\u001b[38;5;124;43m\"\u001b[39;49m\u001b[38;5;124;43menter positive number to calcuate it factorial: \u001b[39;49m\u001b[38;5;124;43m\"\u001b[39;49m\u001b[43m)\u001b[49m)\n\u001b[0;32m     11\u001b[0m     \u001b[38;5;28;01mif\u001b[39;00m num \u001b[38;5;241m>\u001b[39m\u001b[38;5;241m=\u001b[39m\u001b[38;5;241m0\u001b[39m:\n\u001b[0;32m     12\u001b[0m         \u001b[38;5;28mprint\u001b[39m(f(num))\n",
      "File \u001b[1;32m~\\AppData\\Local\\Programs\\Python\\Python311\\Lib\\site-packages\\ipykernel\\kernelbase.py:1191\u001b[0m, in \u001b[0;36mKernel.raw_input\u001b[1;34m(self, prompt)\u001b[0m\n\u001b[0;32m   1189\u001b[0m     msg \u001b[38;5;241m=\u001b[39m \u001b[38;5;124m\"\u001b[39m\u001b[38;5;124mraw_input was called, but this frontend does not support input requests.\u001b[39m\u001b[38;5;124m\"\u001b[39m\n\u001b[0;32m   1190\u001b[0m     \u001b[38;5;28;01mraise\u001b[39;00m StdinNotImplementedError(msg)\n\u001b[1;32m-> 1191\u001b[0m \u001b[38;5;28;01mreturn\u001b[39;00m \u001b[38;5;28;43mself\u001b[39;49m\u001b[38;5;241;43m.\u001b[39;49m\u001b[43m_input_request\u001b[49m\u001b[43m(\u001b[49m\n\u001b[0;32m   1192\u001b[0m \u001b[43m    \u001b[49m\u001b[38;5;28;43mstr\u001b[39;49m\u001b[43m(\u001b[49m\u001b[43mprompt\u001b[49m\u001b[43m)\u001b[49m\u001b[43m,\u001b[49m\n\u001b[0;32m   1193\u001b[0m \u001b[43m    \u001b[49m\u001b[38;5;28;43mself\u001b[39;49m\u001b[38;5;241;43m.\u001b[39;49m\u001b[43m_parent_ident\u001b[49m\u001b[43m[\u001b[49m\u001b[38;5;124;43m\"\u001b[39;49m\u001b[38;5;124;43mshell\u001b[39;49m\u001b[38;5;124;43m\"\u001b[39;49m\u001b[43m]\u001b[49m\u001b[43m,\u001b[49m\n\u001b[0;32m   1194\u001b[0m \u001b[43m    \u001b[49m\u001b[38;5;28;43mself\u001b[39;49m\u001b[38;5;241;43m.\u001b[39;49m\u001b[43mget_parent\u001b[49m\u001b[43m(\u001b[49m\u001b[38;5;124;43m\"\u001b[39;49m\u001b[38;5;124;43mshell\u001b[39;49m\u001b[38;5;124;43m\"\u001b[39;49m\u001b[43m)\u001b[49m\u001b[43m,\u001b[49m\n\u001b[0;32m   1195\u001b[0m \u001b[43m    \u001b[49m\u001b[43mpassword\u001b[49m\u001b[38;5;241;43m=\u001b[39;49m\u001b[38;5;28;43;01mFalse\u001b[39;49;00m\u001b[43m,\u001b[49m\n\u001b[0;32m   1196\u001b[0m \u001b[43m\u001b[49m\u001b[43m)\u001b[49m\n",
      "File \u001b[1;32m~\\AppData\\Local\\Programs\\Python\\Python311\\Lib\\site-packages\\ipykernel\\kernelbase.py:1234\u001b[0m, in \u001b[0;36mKernel._input_request\u001b[1;34m(self, prompt, ident, parent, password)\u001b[0m\n\u001b[0;32m   1231\u001b[0m \u001b[38;5;28;01mexcept\u001b[39;00m \u001b[38;5;167;01mKeyboardInterrupt\u001b[39;00m:\n\u001b[0;32m   1232\u001b[0m     \u001b[38;5;66;03m# re-raise KeyboardInterrupt, to truncate traceback\u001b[39;00m\n\u001b[0;32m   1233\u001b[0m     msg \u001b[38;5;241m=\u001b[39m \u001b[38;5;124m\"\u001b[39m\u001b[38;5;124mInterrupted by user\u001b[39m\u001b[38;5;124m\"\u001b[39m\n\u001b[1;32m-> 1234\u001b[0m     \u001b[38;5;28;01mraise\u001b[39;00m \u001b[38;5;167;01mKeyboardInterrupt\u001b[39;00m(msg) \u001b[38;5;28;01mfrom\u001b[39;00m \u001b[38;5;28mNone\u001b[39m\n\u001b[0;32m   1235\u001b[0m \u001b[38;5;28;01mexcept\u001b[39;00m \u001b[38;5;167;01mException\u001b[39;00m:\n\u001b[0;32m   1236\u001b[0m     \u001b[38;5;28mself\u001b[39m\u001b[38;5;241m.\u001b[39mlog\u001b[38;5;241m.\u001b[39mwarning(\u001b[38;5;124m\"\u001b[39m\u001b[38;5;124mInvalid Message:\u001b[39m\u001b[38;5;124m\"\u001b[39m, exc_info\u001b[38;5;241m=\u001b[39m\u001b[38;5;28;01mTrue\u001b[39;00m)\n",
      "\u001b[1;31mKeyboardInterrupt\u001b[0m: Interrupted by user"
     ]
    }
   ],
   "source": [
    "#B\n",
    "def f(x):\n",
    "    fa=1\n",
    "    for i in range(1,x+1):\n",
    "        fa*=i\n",
    "        if i==x:\n",
    "            break\n",
    "    return fa\n",
    "while True:\n",
    "    num=int(input(\"enter positive number to calcuate it factorial: \"))\n",
    "    if num >=0:\n",
    "        print(f(num))\n",
    "    else:\n",
    "        print(\"enter positive number\")"
   ]
  },
  {
   "cell_type": "code",
   "execution_count": 12,
   "id": "385ae039",
   "metadata": {},
   "outputs": [
    {
     "name": "stdout",
     "output_type": "stream",
     "text": [
      "the item which sarts with B is: Bio\n"
     ]
    }
   ],
   "source": [
    "#C\n",
    "L=['Network','Bio','Programming','Physics','Music']\n",
    "for i in range(len(L)):\n",
    "    if L[i].startswith('B'):\n",
    "        print(\"the item which sarts with B is:\",L[i])"
   ]
  },
  {
   "cell_type": "code",
   "execution_count": 13,
   "id": "8e78fb7d",
   "metadata": {},
   "outputs": [
    {
     "name": "stdout",
     "output_type": "stream",
     "text": [
      "{0: 1, 1: 2, 2: 3, 3: 4, 4: 5, 5: 6, 6: 7, 7: 8, 8: 9, 9: 10, 10: 11}\n"
     ]
    }
   ],
   "source": [
    "#D\n",
    "d={x:x+1 for x in range(11)}\n",
    "print(d)"
   ]
  },
  {
   "cell_type": "code",
   "execution_count": 14,
   "id": "29b947df",
   "metadata": {},
   "outputs": [
    {
     "name": "stdout",
     "output_type": "stream",
     "text": [
      "input an binary number and enter e to exit: 5\n",
      "error\n",
      "input an binary number and enter e to exit: 1111\n",
      "15\n",
      "input an binary number and enter e to exit: 0\n",
      "0\n",
      "input an binary number and enter e to exit: d\n",
      "error\n",
      "input an binary number and enter e to exit: 1101\n",
      "13\n",
      "input an binary number and enter e to exit: 001\n",
      "1\n",
      "input an binary number and enter e to exit: e\n"
     ]
    }
   ],
   "source": [
    "#السؤال الثاني\n",
    "while True:\n",
    "    bin= input(\"input an binary number and enter e to exit: \")\n",
    "    if bin==\"e\":\n",
    "        break\n",
    "    t=0\n",
    "    for i in bin:\n",
    "        if i =='0' or i=='1':\n",
    "            pass\n",
    "        else:\n",
    "            t=1\n",
    "            print('error')\n",
    "            break\n",
    "    if t==0:\n",
    "        dec = 0\n",
    "        for i in range(len(bin)):\n",
    "            digit = int(bin[i])\n",
    "            dec += digit * 2**(len(bin)-i-1)\n",
    "        print(dec)"
   ]
  },
  {
   "cell_type": "code",
   "execution_count": 16,
   "id": "0d426f28",
   "metadata": {
    "scrolled": true
   },
   "outputs": [
    {
     "name": "stdout",
     "output_type": "stream",
     "text": [
      "answer a questions\n",
      "enter your nameDiana\n",
      "split method to turn string in list\n",
      "true\n",
      "join method to turn list in string\n",
      "true\n",
      "32+2\n",
      "34\n",
      "33+1\n",
      "34\n",
      "what is my university id\n",
      "2461\n",
      "30+4\n",
      "34\n",
      "35-1\n",
      "34\n",
      "2+1000\n",
      "1002\n",
      "what is my university id\n",
      "2461\n",
      "16+1\n",
      "17\n",
      "8+2\n",
      "20\n",
      "2*2\n",
      "4\n",
      "15*10\n",
      "150\n",
      "0+0\n",
      "0\n",
      "12+13\n",
      "22\n",
      "welcome Diana your result is 13  OF 15\n"
     ]
    }
   ],
   "source": [
    "#السؤال الثالث\n",
    "print(\"answer a questions\")\n",
    "name=input(\"enter your name\")\n",
    "infile=open(\"q.txt\",'r')\n",
    "outfile=open(\"Diana.csv\",'w')\n",
    "s=infile.read()\n",
    "l=s.splitlines()\n",
    "infile.close()\n",
    "n=0\n",
    "for i in l:\n",
    "    t=i.split('$')\n",
    "    print(t[0])\n",
    "    s=input()\n",
    "    if s==t[1]:\n",
    "        n+=1\n",
    "print(\"welcome\",name,\"your result is\", n,\" OF\",len(l))\n",
    "outfile.write(name)\n",
    "outfile.write(\",\")\n",
    "outfile.write(str(n))\n",
    "outfile.write(\",\")\n",
    "outfile.write(\" OF \"+str(len(l)))\n",
    "outfile.close()\n"
   ]
  },
  {
   "cell_type": "code",
   "execution_count": 23,
   "id": "5c37e9a1",
   "metadata": {},
   "outputs": [
    {
     "name": "stdout",
     "output_type": "stream",
     "text": [
      "current balance after deposit is:  1000.0\n",
      "current balance after withdraw is:  500.0\n",
      "Current balance is: 1650.0 interest rate is: 0.1\n"
     ]
    }
   ],
   "source": [
    "#السؤال الرابغ\n",
    "class BankAccount():\n",
    "    def __init__(self,account_number,account_holder,balance=0.0):\n",
    "        self._account_number=account_number\n",
    "        self._account_holder=account_holder\n",
    "        self._balance=balance\n",
    "    def deposit(self,amount):\n",
    "        if amount>0:\n",
    "            self._balance+=amount\n",
    "            print(\"current balance after deposit is: \", self.get_balance())\n",
    "    def withdraw(self,amount):\n",
    "        if amount>0:\n",
    "            if self._balance>=amount:\n",
    "                self._balance-=amount\n",
    "                print(\"current balance after withdraw is: \",self.get_balance())\n",
    "            else:\n",
    "                print(\"No Enough money in account\")\n",
    "    def get_balance(self):\n",
    "        return self._balance\n",
    "        \n",
    "class SavingsAccount(BankAccount):\n",
    "    def __init__(self,account_number,account_holder,balance=0,interest_rate=0):\n",
    "        super().__init__(account_number,account_holder,balance)\n",
    "        self._interest_rate=interest_rate\n",
    "    def apply_interest(self):\n",
    "        self._balance+=self._balance*self._interest_rate\n",
    "    #Override print() method to print the current balance and rate.\n",
    "    def __str__(self):\n",
    "        return f\"Current balance is: \"+ str(self._balance)+ \" interest rate is: \"+ str(self._interest_rate)\n",
    "    \n",
    "#Create an instance of BankAccount, - Perform a deposit of $1000, - Perform a withdrawal of $500.\n",
    "Diana=BankAccount(\"2461\", \"Diana Saloum\")\n",
    "Diana.deposit(1000)\n",
    "Diana.withdraw(500)\n",
    "\n",
    "#Create an instance of SavingsAccount , and call apply_interest() and print() functions.\n",
    "Diana1=SavingsAccount(\"0001\", \"Diana\",1500,0.1)\n",
    "Diana1.apply_interest()\n",
    "print(Diana1)"
   ]
  },
  {
   "cell_type": "code",
   "execution_count": null,
   "id": "b79f16e3",
   "metadata": {},
   "outputs": [],
   "source": []
  }
 ],
 "metadata": {
  "kernelspec": {
   "display_name": "Python 3 (ipykernel)",
   "language": "python",
   "name": "python3"
  },
  "language_info": {
   "codemirror_mode": {
    "name": "ipython",
    "version": 3
   },
   "file_extension": ".py",
   "mimetype": "text/x-python",
   "name": "python",
   "nbconvert_exporter": "python",
   "pygments_lexer": "ipython3",
   "version": "3.11.2"
  }
 },
 "nbformat": 4,
 "nbformat_minor": 5
}
